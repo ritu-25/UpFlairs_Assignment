{
 "cells": [
  {
   "cell_type": "markdown",
   "metadata": {},
   "source": [
    "EXCEPTION HANDLING"
   ]
  },
  {
   "cell_type": "code",
   "execution_count": 4,
   "metadata": {},
   "outputs": [
    {
     "name": "stdout",
     "output_type": "stream",
     "text": [
      "your name is : Ritu and  i am  20  years old \n",
      "important line 1\n",
      "important line 2\n",
      "important line 3\n",
      "important line 4\n",
      "important line 5\n",
      "important line 6\n"
     ]
    }
   ],
   "source": [
    "name = input(\"enter your name : \")\n",
    "age = int(input(\"plz enter your name : \"))\n",
    "print('your name is :', name,'and  i am ',age,' years old ')\n",
    "\n",
    "\n",
    "print(\"important line 1\")\n",
    "print(\"important line 2\")\n",
    "print(\"important line 3\")\n",
    "print(\"important line 4\")\n",
    "print(\"important line 5\")\n",
    "print(\"important line 6\")"
   ]
  },
  {
   "cell_type": "code",
   "execution_count": 6,
   "metadata": {},
   "outputs": [],
   "source": [
    "# it is a unwanted situation or unexpected situation that disturb the flow of program execution is called exception handling.\n",
    "# exception handling \n",
    "# try , except , else , finally \n"
   ]
  },
  {
   "cell_type": "code",
   "execution_count": 11,
   "metadata": {},
   "outputs": [
    {
     "name": "stdout",
     "output_type": "stream",
     "text": [
      "Ritu\n",
      "your name is : Ritu and  i am  20  years old \n",
      "error is not occured\n",
      "i am always \n",
      "important line 1\n",
      "important line 2\n",
      "important line 3\n",
      "important line 4\n",
      "important line 5\n",
      "important line 6\n"
     ]
    }
   ],
   "source": [
    "# try block \n",
    "try: # it finds all the problems but not solved these problems \n",
    "    name = input(\"enter your name : \")\n",
    "    print(name)\n",
    "    age = int(input(\"plz enter your name : \"))\n",
    "    print('your name is :', name,'and  i am ',age,' years old ')\n",
    "\n",
    "except: # Yes\n",
    "    print('error is occured ')\n",
    "\n",
    "\n",
    "else: # No\n",
    "    print('error is not occured')\n",
    "\n",
    "finally: # always executed\n",
    "    print('i am always ')\n",
    "\n",
    "\n",
    "print(\"important line 1\")\n",
    "print(\"important line 2\")\n",
    "print(\"important line 3\")\n",
    "print(\"important line 4\")\n",
    "print(\"important line 5\")\n",
    "print(\"important line 6\")\n"
   ]
  },
  {
   "cell_type": "code",
   "execution_count": 13,
   "metadata": {},
   "outputs": [
    {
     "data": {
      "text/plain": [
       "[1, 2, 3, 4, 5]"
      ]
     },
     "execution_count": 13,
     "metadata": {},
     "output_type": "execute_result"
    }
   ],
   "source": [
    "ls = [1,2,3,4,5]\n",
    "# ls[8]   # index error\n",
    "ls\n",
    "# lst     # name error"
   ]
  },
  {
   "cell_type": "code",
   "execution_count": 16,
   "metadata": {},
   "outputs": [
    {
     "data": {
      "text/plain": [
       "{'a': 9, 'b': 2, 'c': 8}"
      ]
     },
     "execution_count": 16,
     "metadata": {},
     "output_type": "execute_result"
    }
   ],
   "source": [
    "dt= {'a':9, 'b':2,'c':8}\n",
    "dt\n",
    "# dt['d']  # key error"
   ]
  },
  {
   "cell_type": "code",
   "execution_count": null,
   "metadata": {},
   "outputs": [],
   "source": [
    "# Types of Exceptions \n",
    "# 1. syntex error\n",
    "# 2.  KeyError\n",
    "# 3.  IndexError\n",
    "# 4.  ValueError\n",
    "# 5.  NameError\n",
    "# 6.  TypeError\n",
    "# 7.  TabError\n",
    "# 8.  SyntaxError\n",
    "# 9.  AttributeError\n",
    "# 10. ZeroDivisionError\n",
    "# 11. ModuleNotFoundError\n"
   ]
  }
 ],
 "metadata": {
  "kernelspec": {
   "display_name": "Python 3",
   "language": "python",
   "name": "python3"
  },
  "language_info": {
   "codemirror_mode": {
    "name": "ipython",
    "version": 3
   },
   "file_extension": ".py",
   "mimetype": "text/x-python",
   "name": "python",
   "nbconvert_exporter": "python",
   "pygments_lexer": "ipython3",
   "version": "3.12.0"
  }
 },
 "nbformat": 4,
 "nbformat_minor": 2
}
