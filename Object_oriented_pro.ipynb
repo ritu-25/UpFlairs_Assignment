{
 "cells": [
  {
   "cell_type": "markdown",
   "metadata": {},
   "source": [
    "Object Oriented Programming"
   ]
  },
  {
   "cell_type": "code",
   "execution_count": 24,
   "metadata": {},
   "outputs": [],
   "source": [
    "class Collage:\n",
    "\n",
    "    # properties \n",
    "    collage_name = \"Poornima institute of engineering & technology\"\n",
    "    collage_city  = 'jaipur'"
   ]
  },
  {
   "cell_type": "code",
   "execution_count": 25,
   "metadata": {},
   "outputs": [],
   "source": [
    "# object or instance creation\n",
    "obj1 = Collage()\n",
    "obj2 = Collage()\n",
    "obj3 = Collage()"
   ]
  },
  {
   "cell_type": "code",
   "execution_count": 26,
   "metadata": {},
   "outputs": [
    {
     "name": "stdout",
     "output_type": "stream",
     "text": [
      "Poornima institute of engineering & technology\n"
     ]
    }
   ],
   "source": [
    "# print(collage_name)\n",
    "print(obj1.collage_name)"
   ]
  },
  {
   "cell_type": "code",
   "execution_count": 27,
   "metadata": {},
   "outputs": [
    {
     "name": "stdout",
     "output_type": "stream",
     "text": [
      "Institute of engineering\n"
     ]
    }
   ],
   "source": [
    "obj1.collage_name = \"Institute of engineering\"\n",
    "print(obj1.collage_name)"
   ]
  },
  {
   "cell_type": "code",
   "execution_count": 28,
   "metadata": {},
   "outputs": [],
   "source": [
    "# what is class and Instance ?\n"
   ]
  },
  {
   "cell_type": "code",
   "execution_count": 29,
   "metadata": {},
   "outputs": [],
   "source": [
    "class Collage:\n",
    "\n",
    "    # properties \n",
    "    collage_name = \"Poornima institute of engineering & technology\"\n",
    "    collage_city  = 'jaipur'\n",
    "\n",
    "    # instance variable constructor\n",
    "    # it is a kind of special function and which is used to initialized the variables\n",
    "    # you will not need to call the constructor\n",
    "    # constructor executes automatically when you will create an object.\n",
    "    # self keyword is reference of a object\n",
    "    # self == obj   -->>>  for inside class (\" It works as a Pointers \")\n",
    "\n",
    "\n",
    "\n",
    "    def __init__(self, cse_hod,ece_hod,e_hod):\n",
    "        # instance variables\n",
    "        self.collage_cse_hod = cse_hod\n",
    "        self.collage_ece_hod = ece_hod\n",
    "        self.collage_electrical_hod = e_hod\n",
    "        self.student_marks = [23,45,3,56,78,77,45,89,90,20]\n",
    "        self.random_number = [34,66,77,89,90,9,78,65,54,43,32,11,12,23,22,21,14]\n",
    "        print(\"Constructor called !\")\n",
    "\n",
    "\n",
    "\n",
    "    # Function(Methods)\n",
    "    def display(self):\n",
    "        print(\"My collage name : \",self.collage_name)\n",
    "        print(\"My CSE HOD : \",self.collage_cse_hod)\n",
    "        print(\"My Collage city : \", self.collage_city)\n",
    "\n",
    "\n",
    "    def average_marks(self):\n",
    "        marks = self.student_marks\n",
    "        # print(marks)\n",
    "        total_sum =0 \n",
    "        count = 0\n",
    "        for item in marks:\n",
    "            total_sum += item\n",
    "            count += 1\n",
    "        print(total_sum/count)\n",
    "\n",
    "        # print(total_sum/no_of_item)"
   ]
  },
  {
   "cell_type": "code",
   "execution_count": 30,
   "metadata": {},
   "outputs": [
    {
     "name": "stdout",
     "output_type": "stream",
     "text": [
      "Constructor called !\n",
      "Constructor called !\n"
     ]
    }
   ],
   "source": [
    "# Collage.collage_cse_hod\n",
    "obj1 = Collage(cse_hod=\"Manoj Sharma\",ece_hod=\"Uday pratap\",e_hod=\"Rahul trivedi\")\n",
    "obj2 = Collage(cse_hod=\"Mohan Sharma\",ece_hod=\"abhishek pratap\",e_hod=\"Hariom trivedi\")"
   ]
  },
  {
   "cell_type": "code",
   "execution_count": 31,
   "metadata": {},
   "outputs": [
    {
     "name": "stdout",
     "output_type": "stream",
     "text": [
      "52.6\n"
     ]
    }
   ],
   "source": [
    "obj1.average_marks()"
   ]
  },
  {
   "cell_type": "code",
   "execution_count": 32,
   "metadata": {},
   "outputs": [
    {
     "name": "stdout",
     "output_type": "stream",
     "text": [
      "52.6\n"
     ]
    }
   ],
   "source": [
    "obj1.average_marks()"
   ]
  },
  {
   "cell_type": "code",
   "execution_count": 33,
   "metadata": {},
   "outputs": [
    {
     "data": {
      "text/plain": [
       "'Manoj Sharma'"
      ]
     },
     "execution_count": 33,
     "metadata": {},
     "output_type": "execute_result"
    }
   ],
   "source": [
    "# object.variable name\n",
    "obj1.collage_cse_hod"
   ]
  },
  {
   "cell_type": "code",
   "execution_count": 34,
   "metadata": {},
   "outputs": [
    {
     "data": {
      "text/plain": [
       "'Mohan Sharma'"
      ]
     },
     "execution_count": 34,
     "metadata": {},
     "output_type": "execute_result"
    }
   ],
   "source": [
    "# object.variable name\n",
    "obj2.collage_cse_hod"
   ]
  },
  {
   "cell_type": "code",
   "execution_count": 35,
   "metadata": {},
   "outputs": [
    {
     "name": "stdout",
     "output_type": "stream",
     "text": [
      "My collage name :  Poornima institute of engineering & technology\n",
      "My CSE HOD :  Manoj Sharma\n",
      "My Collage city :  jaipur\n"
     ]
    }
   ],
   "source": [
    "obj1.display()"
   ]
  },
  {
   "cell_type": "code",
   "execution_count": 36,
   "metadata": {},
   "outputs": [
    {
     "name": "stdout",
     "output_type": "stream",
     "text": [
      "My collage name :  Poornima institute of engineering & technology\n",
      "My CSE HOD :  Mohan Sharma\n",
      "My Collage city :  jaipur\n"
     ]
    }
   ],
   "source": [
    "obj2.display()"
   ]
  },
  {
   "cell_type": "code",
   "execution_count": 37,
   "metadata": {},
   "outputs": [],
   "source": [
    "marks = [23,45,3,56,78,77,45,89,90,20]\n",
    "\n",
    "def average_finder():\n",
    "    total_sum =0 \n",
    "    count = 0\n",
    "    for item in marks:\n",
    "        total_sum += item\n",
    "        count += 1\n",
    "    print(total_sum/count)\n"
   ]
  },
  {
   "cell_type": "code",
   "execution_count": 38,
   "metadata": {},
   "outputs": [
    {
     "name": "stdout",
     "output_type": "stream",
     "text": [
      "52.6\n"
     ]
    }
   ],
   "source": [
    "average_finder()"
   ]
  },
  {
   "cell_type": "code",
   "execution_count": 39,
   "metadata": {},
   "outputs": [],
   "source": [
    "class Hello:\n",
    "    def __init__(self):\n",
    "        self.random_number = [34,66,77,89,90,9,78,65,54,43,32,11,12,23,22,21,14]\n",
    "        print(\"Constructor is called ! \")\n",
    "\n",
    "\n",
    "\n",
    "    # Function(Methods)\n",
    "    def display(self):\n",
    "        print(\"My even_odd_counter : \",self.random_number)\n",
    "        \n",
    "\n",
    "\n",
    "    def even_odd_counter(self):\n",
    "        self.random_number = marks\n",
    "        count=0\n",
    "        for i in self.random_number :\n",
    "            if i%2 == 0 :\n",
    "                print(i, \"\", end=\"\")\n",
    "                count+=1\n",
    "        print(\"Total even numbers: \",count)\n",
    "\n",
    "        print (\"Odd numbers: \", end=\"\")\n",
    "        count=0\n",
    "        for i in self.random_number :\n",
    "            if i%2 != 0 :\n",
    "                print(i, \"\", end=\"\")\n",
    "                count+=1\n",
    "        print(\"Total odd numbers: \",count)\n",
    "\n",
    "\n",
    "\n",
    "    def even_average_finder(self):\n",
    "        total_sum = 0\n",
    "        item = self.random_number\n",
    "        count = 0\n",
    "        for i in item:\n",
    "            total_sum += i\n",
    "            count += 1\n",
    "        print(\"Average_even no. is : \", round(total_sum/count,2))\n",
    "        \n",
    "    def num_finder(self, n) :\n",
    "        for i,j in enumerate(self.random_number) :\n",
    "            if (j == n) :\n",
    "                print(\"Item is present at index:\", i)\n"
   ]
  },
  {
   "cell_type": "code",
   "execution_count": 40,
   "metadata": {},
   "outputs": [
    {
     "name": "stdout",
     "output_type": "stream",
     "text": [
      "Constructor is called ! \n"
     ]
    }
   ],
   "source": [
    "obj = Hello()"
   ]
  },
  {
   "cell_type": "code",
   "execution_count": 41,
   "metadata": {},
   "outputs": [
    {
     "name": "stdout",
     "output_type": "stream",
     "text": [
      "My even_odd_counter :  [34, 66, 77, 89, 90, 9, 78, 65, 54, 43, 32, 11, 12, 23, 22, 21, 14]\n"
     ]
    }
   ],
   "source": [
    "obj.display()"
   ]
  },
  {
   "cell_type": "code",
   "execution_count": 42,
   "metadata": {},
   "outputs": [
    {
     "name": "stdout",
     "output_type": "stream",
     "text": [
      "56 78 90 20 Total even numbers:  4\n",
      "Odd numbers: 23 45 3 77 45 89 Total odd numbers:  6\n"
     ]
    }
   ],
   "source": [
    "obj.even_odd_counter()"
   ]
  },
  {
   "cell_type": "code",
   "execution_count": 43,
   "metadata": {},
   "outputs": [
    {
     "name": "stdout",
     "output_type": "stream",
     "text": [
      "Average_even no. is :  52.6\n"
     ]
    }
   ],
   "source": [
    "obj.even_average_finder()"
   ]
  },
  {
   "cell_type": "code",
   "execution_count": 44,
   "metadata": {},
   "outputs": [],
   "source": [
    "obj.num_finder(n=14)"
   ]
  }
 ],
 "metadata": {
  "kernelspec": {
   "display_name": "Python 3",
   "language": "python",
   "name": "python3"
  },
  "language_info": {
   "codemirror_mode": {
    "name": "ipython",
    "version": 3
   },
   "file_extension": ".py",
   "mimetype": "text/x-python",
   "name": "python",
   "nbconvert_exporter": "python",
   "pygments_lexer": "ipython3",
   "version": "3.12.0"
  }
 },
 "nbformat": 4,
 "nbformat_minor": 2
}
